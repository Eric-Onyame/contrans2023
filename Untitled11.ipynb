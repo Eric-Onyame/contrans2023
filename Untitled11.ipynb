{
 "cells": [
  {
   "cell_type": "code",
   "execution_count": 7,
   "id": "8608cbef-1f68-43db-921b-6f15beff13dc",
   "metadata": {},
   "outputs": [],
   "source": [
    "import numpy as np\n",
    "import pandas as pd\n",
    "import requests\n",
    "import json\n",
    "import os\n",
    "opensecretsapi = os.getenv('opensecretsapi')\n",
    "r= requests.get('https://httpbin.org/user-agent')\n",
    "useragents=json.loads(r.text)['user-agent']"
   ]
  },
  {
   "cell_type": "markdown",
   "id": "97b2abf0-8d6e-4a80-8614-673399b048e4",
   "metadata": {},
   "source": [
    "* Voteview:\n",
    "   * Votes: https://voteview.com/articles/data_help_votes\n",
    "   * Ideology: https://voteview.com/articles/data_help_members\n",
    " * Open Secrets:\n",
    "   * Contributions: https://www.opensecrets.org/api/?method=candContrib&output=doc\n",
    "   * Candidate info: https://www.opensecrets.org/api/?method=getLegislators&output=doc\n",
    " * Congress API:\n",
    "   * Member info: https://api.congress.gov/#/member/member_list\n",
    "   * Bill info (specifically, who sponsored the bill): https://api.congress.gov/#/bill/bill_details"
   ]
  },
  {
   "cell_type": "code",
   "execution_count": 9,
   "id": "e86bc74e-69e0-461b-9f95-e5cdd0b215b7",
   "metadata": {},
   "outputs": [],
   "source": [
    "# icpsr\n",
    "#bioguide_id"
   ]
  },
  {
   "cell_type": "code",
   "execution_count": null,
   "id": "a5dff6d9-685f-49ae-a0b9-8135afd63d70",
   "metadata": {},
   "outputs": [],
   "source": [
    "states = ['AK', 'AL', 'AR', 'AZ', 'CA', 'CO', 'CT', 'DE', 'FL', 'GA', 'HI', 'IA', 'ID', 'IL', 'IN', 'KS', 'KY', 'LA', 'MA', 'MD', 'ME', 'MI', 'MN', 'MO', 'MS', 'MT', 'NC', 'ND', 'NE', 'NH', 'NJ', 'NM', 'NV', 'NY', 'OH', 'OK', 'OR', 'PA', 'RI', 'SC', 'SD', 'TN', 'TX', 'UT', 'VA', 'VT', 'WA', 'WI', 'WV', 'WY']"
   ]
  },
  {
   "cell_type": "code",
   "execution_count": null,
   "id": "e2b210bc-87cb-4e8d-b9af-fe3dd9dfe120",
   "metadata": {},
   "outputs": [],
   "source": [
    "root= 'https://api.congress.gov/v3'\n",
    "congress='118'\n",
    "endpoint = f'/bill/{congress}'\n",
    "\n",
    "https://www.opensecrets.org/api/?method=candContrib&cid=N00007360&cycle=2022&apikey=__apikey__"
   ]
  },
  {
   "cell_type": "code",
   "execution_count": null,
   "id": "1d5f864f-f8e7-43d3-a41b-a80f0d0e7d11",
   "metadata": {},
   "outputs": [],
   "source": []
  },
  {
   "cell_type": "code",
   "execution_count": null,
   "id": "a043f934-59b7-4f92-9f5f-730bb34bca20",
   "metadata": {},
   "outputs": [],
   "source": []
  }
 ],
 "metadata": {
  "kernelspec": {
   "display_name": "Python 3 (ipykernel)",
   "language": "python",
   "name": "python3"
  },
  "language_info": {
   "codemirror_mode": {
    "name": "ipython",
    "version": 3
   },
   "file_extension": ".py",
   "mimetype": "text/x-python",
   "name": "python",
   "nbconvert_exporter": "python",
   "pygments_lexer": "ipython3",
   "version": "3.11.4"
  }
 },
 "nbformat": 4,
 "nbformat_minor": 5
}
