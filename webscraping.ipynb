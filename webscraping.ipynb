{
 "cells": [
  {
   "cell_type": "code",
   "execution_count": 4,
   "id": "32fd7f07-1d04-4362-ae44-25fa4c13c6da",
   "metadata": {},
   "outputs": [],
   "source": [
    "import numpy as np\n",
    "import pandas as pd\n",
    "import requests\n",
    "import json\n",
    "from bs4 import BeautifulSoup"
   ]
  },
  {
   "cell_type": "code",
   "execution_count": 5,
   "id": "44ac646c-5734-4a88-ba36-1a5e419f89fc",
   "metadata": {},
   "outputs": [],
   "source": [
    "r = requests.get('http://httpbin.org/user-agent')\n",
    "useragent = json.loads(r.text)['user-agent']\n",
    "headers = {'User-Agent': useragent,\n",
    "          'From': 'reh6ed@virginia.edu'}"
   ]
  },
  {
   "cell_type": "code",
   "execution_count": 6,
   "id": "c31fa8c2-85bb-4d9d-8de6-3d91d4bc25b9",
   "metadata": {},
   "outputs": [],
   "source": [
    "url = 'https://www.govinfo.gov/content/pkg/BILLS-118s475is/html/BILLS-118s475is.htm'\n",
    "r=  requests.get(url, headers=headers)"
   ]
  },
  {
   "cell_type": "code",
   "execution_count": 10,
   "id": "df4ee28b-a158-4a4e-bd68-6b7538855040",
   "metadata": {},
   "outputs": [
    {
     "name": "stderr",
     "output_type": "stream",
     "text": [
      "/tmp/ipykernel_22/712940244.py:1: MarkupResemblesLocatorWarning: The input looks more like a filename than markup. You may want to open this file and pass the filehandle into Beautiful Soup.\n",
      "  mysoup= BeautifulSoup(r.text, 'html.parser')\n"
     ]
    }
   ],
   "source": [
    "mysoup= BeautifulSoup(r.text, 'html.parser')\n",
    "#mysoup"
   ]
  },
  {
   "cell_type": "code",
   "execution_count": 8,
   "id": "55c303ff-a901-4a8f-b0df-06d374c9e509",
   "metadata": {},
   "outputs": [
    {
     "name": "stdout",
     "output_type": "stream",
     "text": [
      "\n",
      "[Congressional Bills 118th Congress]\n",
      "[From the U.S. Government Publishing Office]\n",
      "[S. 475 Introduced in Senate (IS)]\n",
      "\n",
      "<DOC>\n",
      "\n",
      "\n",
      "\n",
      "\n",
      "\n",
      "\n",
      "118th CONGRESS\n",
      "  1st Session\n",
      "                                 S. 475\n",
      "\n",
      "   To designate the clinic of the Department of Veterans Affairs in \n",
      "   Gallup, New Mexico, as the Hiroshi ``Hershey'' Miyamura VA Clinic.\n",
      "\n",
      "\n",
      "_______________________________________________________________________\n",
      "\n",
      "\n",
      "                   IN THE SENATE OF THE UNITED STATES\n",
      "\n",
      "                           February 16, 2023\n",
      "\n",
      "Mr. Heinrich (for himself and Mr. Lujan) introduced the following bill; \n",
      "which was read twice and referred to the Committee on Veterans' Affairs\n",
      "\n",
      "_______________________________________________________________________\n",
      "\n",
      "                                 A BILL\n",
      "\n",
      "\n",
      " \n",
      "   To designate the clinic of the Department of Veterans Affairs in \n",
      "   Gallup, New Mexico, as the Hiroshi ``Hershey'' Miyamura VA Clinic.\n",
      "\n",
      "    Be it enacted by the Senate and House of Representatives of the \n",
      "United States of America in Congress assembled,\n",
      "\n",
      "SECTION 1. DESIGNATION OF HIROSHI ``HERSHEY'' MIYAMURA DEPARTMENT OF \n",
      "              VETERANS AFFAIRS CLINIC.\n",
      "\n",
      "    (a) Findings.--Congress finds the following:\n",
      "            (1) Hiroshi ``Hershey'' Miyamura was born on October 6, \n",
      "        1925, in Gallup, New Mexico.\n",
      "            (2) A second generation Japanese American, Hershey Miyamura \n",
      "        first served in the United States Army near the end of World \n",
      "        War II.\n",
      "            (3) Hershey Miyamura served in the Army at a time when many \n",
      "        of his fellow Japanese Americans, and that includes his future \n",
      "        wife, were detained in internment camps in the United States.\n",
      "            (4) Hershey Miyamura served in the storied 442nd Infantry \n",
      "        Regiment, which was composed of soldiers with Japanese ancestry \n",
      "        and became one of the most decorated units in the history of \n",
      "        the United States military.\n",
      "            (5) Following the start of the Korean War in 1950, the Army \n",
      "        recalled Hershey Miyamura, who had remained as a member of the \n",
      "        reserve components of the Army, back into active duty.\n",
      "            (6) During an overnight firefight from April 24 to April \n",
      "        25, 1951, then-Corporal Miyamura covered the withdrawal of his \n",
      "        entire company from advancing enemy forces as a machine gun \n",
      "        squad leader.\n",
      "            (7) The selfless actions by Hershey Miyamura that night \n",
      "        allowed all 16 of his men to withdraw safely before he was \n",
      "        severely wounded and captured as a prisoner of war.\n",
      "            (8) Nearly 2\\1/2\\ years later, following his release and \n",
      "        return to the United States, President Eisenhower presented \n",
      "        Hershey Miyamura with the Congressional Medal of Honor in a \n",
      "        ceremony at the White House.\n",
      "            (9) The lifelong dedication of Hershey Miyamura to the \n",
      "        United States never ceased. It continued long after his \n",
      "        decorated military service ended.\n",
      "            (10) After he received his honorable discharge from the \n",
      "        Army, Hershey Miyamura opened a service station along Route 66 \n",
      "        in his hometown of Gallup, New Mexico.\n",
      "            (11) Hershey Miyamura remained active in his community \n",
      "        until his dying days, advocating for his fellow veterans and \n",
      "        inspiring young people with lectures on patriotism, faith, and \n",
      "        service.\n",
      "    (b) Designation.--The clinic of the Department of Veterans Affairs \n",
      "located at 2075 South NM Highway 602, Gallup, New Mexico, shall after \n",
      "the date of the enactment of this Act be known and designated as the \n",
      "``Hiroshi `Hershey' Miyamura Department of Veterans Affairs Clinic'' or \n",
      "the ``Hiroshi `Hershey' Miyamura VA Clinic''.\n",
      "    (c) References.--Any reference in any law, regulation, map, \n",
      "document, paper, or other record of the United States to the clinic \n",
      "referred to in subsection (b) shall be considered to be a reference to \n",
      "the ``Hiroshi `Hershey' Miyamura VA Clinic''.\n",
      "                                 <all>\n",
      "\n"
     ]
    }
   ],
   "source": [
    "print(mysoup.find_all('pre')[0].text)"
   ]
  },
  {
   "cell_type": "code",
   "execution_count": 14,
   "id": "071483fc-096d-47da-b5ed-9dfeeca08825",
   "metadata": {},
   "outputs": [
    {
     "name": "stdout",
     "output_type": "stream",
     "text": [
      "Retrieving S. 10\n",
      "Retrieving S. 20\n",
      "Retrieving S. 30\n",
      "Retrieving S. 40\n",
      "Retrieving S. 50\n",
      "Retrieving S. 60\n",
      "Retrieving S. 70\n",
      "Retrieving S. 80\n",
      "Retrieving S. 90\n"
     ]
    }
   ],
   "source": [
    "senate_bills = []\n",
    "for i in range(1, 100):\n",
    "    if i % 10 ==0:\n",
    "        print(f\"Retrieving S. {i}\")\n",
    "    try:\n",
    "            \n",
    "        url = 'https://www.govinfo.gov/content/pkg/BILLS-118s475is/html/BILLS-118s475is.htm'\n",
    "        r=  requests.get(url, headers=headers)\n",
    "        mysoup= BeautifulSoup(r.text, 'html.parser')\n",
    "        bill_text= mysoup.find_all('pre')[0].text\n",
    "        senate_bills.append({'Bill Number': f\"S. {i}\", \"Bill Text\": bill_text})\n",
    "    except:\n",
    "        continue\n",
    "senate_bills = pd.DataFrame.from_dict(senate_bills)"
   ]
  },
  {
   "cell_type": "code",
   "execution_count": 15,
   "id": "6d34b720-0795-46d1-b02e-d6437966b232",
   "metadata": {},
   "outputs": [
    {
     "data": {
      "text/html": [
       "<div>\n",
       "<style scoped>\n",
       "    .dataframe tbody tr th:only-of-type {\n",
       "        vertical-align: middle;\n",
       "    }\n",
       "\n",
       "    .dataframe tbody tr th {\n",
       "        vertical-align: top;\n",
       "    }\n",
       "\n",
       "    .dataframe thead th {\n",
       "        text-align: right;\n",
       "    }\n",
       "</style>\n",
       "<table border=\"1\" class=\"dataframe\">\n",
       "  <thead>\n",
       "    <tr style=\"text-align: right;\">\n",
       "      <th></th>\n",
       "      <th>Bill Number</th>\n",
       "      <th>Bill Text</th>\n",
       "    </tr>\n",
       "  </thead>\n",
       "  <tbody>\n",
       "    <tr>\n",
       "      <th>0</th>\n",
       "      <td>S. 1</td>\n",
       "      <td>\\n[Congressional Bills 118th Congress]\\n[From ...</td>\n",
       "    </tr>\n",
       "    <tr>\n",
       "      <th>1</th>\n",
       "      <td>S. 2</td>\n",
       "      <td>\\n[Congressional Bills 118th Congress]\\n[From ...</td>\n",
       "    </tr>\n",
       "    <tr>\n",
       "      <th>2</th>\n",
       "      <td>S. 3</td>\n",
       "      <td>\\n[Congressional Bills 118th Congress]\\n[From ...</td>\n",
       "    </tr>\n",
       "    <tr>\n",
       "      <th>3</th>\n",
       "      <td>S. 4</td>\n",
       "      <td>\\n[Congressional Bills 118th Congress]\\n[From ...</td>\n",
       "    </tr>\n",
       "    <tr>\n",
       "      <th>4</th>\n",
       "      <td>S. 5</td>\n",
       "      <td>\\n[Congressional Bills 118th Congress]\\n[From ...</td>\n",
       "    </tr>\n",
       "    <tr>\n",
       "      <th>...</th>\n",
       "      <td>...</td>\n",
       "      <td>...</td>\n",
       "    </tr>\n",
       "    <tr>\n",
       "      <th>94</th>\n",
       "      <td>S. 95</td>\n",
       "      <td>\\n[Congressional Bills 118th Congress]\\n[From ...</td>\n",
       "    </tr>\n",
       "    <tr>\n",
       "      <th>95</th>\n",
       "      <td>S. 96</td>\n",
       "      <td>\\n[Congressional Bills 118th Congress]\\n[From ...</td>\n",
       "    </tr>\n",
       "    <tr>\n",
       "      <th>96</th>\n",
       "      <td>S. 97</td>\n",
       "      <td>\\n[Congressional Bills 118th Congress]\\n[From ...</td>\n",
       "    </tr>\n",
       "    <tr>\n",
       "      <th>97</th>\n",
       "      <td>S. 98</td>\n",
       "      <td>\\n[Congressional Bills 118th Congress]\\n[From ...</td>\n",
       "    </tr>\n",
       "    <tr>\n",
       "      <th>98</th>\n",
       "      <td>S. 99</td>\n",
       "      <td>\\n[Congressional Bills 118th Congress]\\n[From ...</td>\n",
       "    </tr>\n",
       "  </tbody>\n",
       "</table>\n",
       "<p>99 rows × 2 columns</p>\n",
       "</div>"
      ],
      "text/plain": [
       "   Bill Number                                          Bill Text\n",
       "0         S. 1  \\n[Congressional Bills 118th Congress]\\n[From ...\n",
       "1         S. 2  \\n[Congressional Bills 118th Congress]\\n[From ...\n",
       "2         S. 3  \\n[Congressional Bills 118th Congress]\\n[From ...\n",
       "3         S. 4  \\n[Congressional Bills 118th Congress]\\n[From ...\n",
       "4         S. 5  \\n[Congressional Bills 118th Congress]\\n[From ...\n",
       "..         ...                                                ...\n",
       "94       S. 95  \\n[Congressional Bills 118th Congress]\\n[From ...\n",
       "95       S. 96  \\n[Congressional Bills 118th Congress]\\n[From ...\n",
       "96       S. 97  \\n[Congressional Bills 118th Congress]\\n[From ...\n",
       "97       S. 98  \\n[Congressional Bills 118th Congress]\\n[From ...\n",
       "98       S. 99  \\n[Congressional Bills 118th Congress]\\n[From ...\n",
       "\n",
       "[99 rows x 2 columns]"
      ]
     },
     "execution_count": 15,
     "metadata": {},
     "output_type": "execute_result"
    }
   ],
   "source": [
    "senate_bills"
   ]
  },
  {
   "cell_type": "code",
   "execution_count": 16,
   "id": "61f67e34-426f-4bec-9aea-1c51a2e9dbda",
   "metadata": {},
   "outputs": [],
   "source": [
    "senate_bills.to_csv('senate_bills.cov')"
   ]
  },
  {
   "cell_type": "code",
   "execution_count": null,
   "id": "e9038fea-0b67-4601-adc7-e3ea35c0ee6f",
   "metadata": {},
   "outputs": [],
   "source": []
  }
 ],
 "metadata": {
  "kernelspec": {
   "display_name": "Python 3 (ipykernel)",
   "language": "python",
   "name": "python3"
  },
  "language_info": {
   "codemirror_mode": {
    "name": "ipython",
    "version": 3
   },
   "file_extension": ".py",
   "mimetype": "text/x-python",
   "name": "python",
   "nbconvert_exporter": "python",
   "pygments_lexer": "ipython3",
   "version": "3.11.4"
  }
 },
 "nbformat": 4,
 "nbformat_minor": 5
}
