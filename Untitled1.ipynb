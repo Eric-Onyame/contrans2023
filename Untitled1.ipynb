{
 "cells": [
  {
   "cell_type": "code",
   "execution_count": 4,
   "id": "7cd719d7-9b16-4e96-a1a4-d8743b8a182a",
   "metadata": {},
   "outputs": [
    {
     "ename": "ModuleNotFoundError",
     "evalue": "No module named 'matplotlib'",
     "output_type": "error",
     "traceback": [
      "\u001b[1;31m---------------------------------------------------------------------------\u001b[0m",
      "\u001b[1;31mModuleNotFoundError\u001b[0m                       Traceback (most recent call last)",
      "Cell \u001b[1;32mIn[4], line 3\u001b[0m\n\u001b[0;32m      1\u001b[0m \u001b[38;5;28;01mimport\u001b[39;00m \u001b[38;5;21;01mtime\u001b[39;00m\n\u001b[0;32m      2\u001b[0m \u001b[38;5;28;01mimport\u001b[39;00m \u001b[38;5;21;01mrandom\u001b[39;00m\n\u001b[1;32m----> 3\u001b[0m \u001b[38;5;28;01mimport\u001b[39;00m \u001b[38;5;21;01mmatplotlib\u001b[39;00m\u001b[38;5;21;01m.\u001b[39;00m\u001b[38;5;21;01mpyplot\u001b[39;00m \u001b[38;5;28;01mas\u001b[39;00m \u001b[38;5;21;01mplt\u001b[39;00m\n\u001b[0;32m      4\u001b[0m \u001b[38;5;28;01mfrom\u001b[39;00m \u001b[38;5;21;01mcopy\u001b[39;00m \u001b[38;5;28;01mimport\u001b[39;00m deepcopy\n\u001b[0;32m      6\u001b[0m \u001b[38;5;66;03m# Your implementations of computeAllTPRs and computeAllTPRs_improved go here\u001b[39;00m\n\u001b[0;32m      7\u001b[0m \n\u001b[0;32m      8\u001b[0m \u001b[38;5;66;03m# Timing function\u001b[39;00m\n",
      "\u001b[1;31mModuleNotFoundError\u001b[0m: No module named 'matplotlib'"
     ]
    }
   ],
   "source": [
    "import time\n",
    "import random\n",
    "import matplotlib.pyplot as plt\n",
    "from copy import deepcopy\n",
    "\n",
    "# Your implementations of computeAllTPRs and computeAllTPRs_improved go here\n",
    "\n",
    "# Timing function\n",
    "def time_function(func, labels, confs):\n",
    "    start_time = time.time()\n",
    "    func(labels, deepcopy(confs))  # Deepcopy to ensure original confs is unchanged\n",
    "    end_time = time.time()\n",
    "    return end_time - start_time\n",
    "\n",
    "# Generate data and plot\n",
    "input_sizes = [100, 500, 1000, 5000, 10000]\n",
    "original_runtimes = []\n",
    "improved_runtimes = []\n",
    "\n",
    "for n in input_sizes:\n",
    "    confList = [random.random() for _ in range(n)]\n",
    "    labels = [1 if conf > 0.5 else 0 for conf in confList]\n",
    "\n",
    "    original_runtime = time_function(computeAllTPRs, labels, confList)\n",
    "    improved_runtime = time_function(computeAllTPRs_improved, labels, confList)\n",
    "\n",
    "    original_runtimes.append(original_runtime)\n",
    "    improved_runtimes.append(improved_runtime)\n",
    "\n",
    "plt.figure(figsize=(10, 6))\n",
    "plt.plot(input_sizes, original_runtimes, label='Original O(n^2)')\n",
    "plt.plot(input_sizes, improved_runtimes, label='Improved O(n log n)')\n",
    "plt.xlabel('Input Size')\n",
    "plt.ylabel('Runtime (seconds)')\n",
    "plt.legend()\n",
    "plt.show()\n"
   ]
  },
  {
   "cell_type": "code",
   "execution_count": 6,
   "id": "0f9b53c5",
   "metadata": {},
   "outputs": [
    {
     "name": "stdout",
     "output_type": "stream",
     "text": [
      "Note: you may need to restart the kernel to use updated packages.\n"
     ]
    },
    {
     "name": "stderr",
     "output_type": "stream",
     "text": [
      "ERROR: Could not find a version that satisfies the requirement random (from versions: none)\n",
      "ERROR: No matching distribution found for random\n"
     ]
    }
   ],
   "source": []
  },
  {
   "cell_type": "code",
   "execution_count": null,
   "id": "5e4535ad",
   "metadata": {},
   "outputs": [],
   "source": []
  }
 ],
 "metadata": {
  "kernelspec": {
   "display_name": "contrans2023",
   "language": "python",
   "name": "contrans2023"
  },
  "language_info": {
   "codemirror_mode": {
    "name": "ipython",
    "version": 3
   },
   "file_extension": ".py",
   "mimetype": "text/x-python",
   "name": "python",
   "nbconvert_exporter": "python",
   "pygments_lexer": "ipython3",
   "version": "3.11.4"
  }
 },
 "nbformat": 4,
 "nbformat_minor": 5
}
