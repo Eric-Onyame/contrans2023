{
 "cells": [
  {
   "cell_type": "code",
   "execution_count": 1,
   "id": "8c96a3b2-82d2-4e54-aac6-10bdfabcbbb5",
   "metadata": {},
   "outputs": [],
   "source": [
    "import numpy as np\n",
    "import pandas as pd\n",
    "import dash\n",
    "from dash import dcc\n",
    "from dash import html\n",
    "from dash.dependencies import Input, Output\n",
    "import sqlalchemy import create_engine\n",
    "import psycopg2\n",
    "import os\n",
    "POSTGRES_PASSWORD= os.getenv('POSTGRES_PASSWORD')"
   ]
  },
  {
   "cell_type": "code",
   "execution_count": null,
   "id": "4e098e7f-af4d-4f6e-8171-18f8e690ec2b",
   "metadata": {},
   "outputs": [],
   "source": [
    "engine = create_engine('postgresql+psycopg2://{user}:{password}@{host}:{port}/{db}'.format(\n",
    "    user = 'postgres',\n",
    "    password = POSTGRES_PASSWORD,\n",
    "    host ='postgres',\n",
    "    port = 5432,\n",
    "    db = 'congress'\n",
    "))"
   ]
  },
  {
   "cell_type": "code",
   "execution_count": null,
   "id": "bf5b4565-0ddc-463d-97af-daa058352dd7",
   "metadata": {},
   "outputs": [],
   "source": [
    "myquery = '''\n",
    "SELECT directordername\n",
    "FROM members\n",
    "ORDER BY lastname\n",
    "'''\n",
    "\n",
    "members= pd.read_sql_query(myquery, con=engine)\n",
    "memberlist=zip(members['directordername'], members['bioguideid'])"
   ]
  },
  {
   "cell_type": "code",
   "execution_count": 2,
   "id": "e5928a3e-a3df-4417-bfe2-8dc9904e1597",
   "metadata": {},
   "outputs": [],
   "source": [
    "external_stylesheets = ['https://codepen.io/chriddyp/pen/bWLwgP.css']"
   ]
  },
  {
   "cell_type": "code",
   "execution_count": null,
   "id": "1f679b74-8e80-44fd-a694-981e43fb1a6d",
   "metadata": {},
   "outputs": [],
   "source": [
    "mymarkdown = '''\n",
    "congressional elections are ususally all about the big, national issues. But these representatives and senators work for local districts and states. Not all issues are the same everywhere. The purpose of this dashboard is to collect the public data from these sources:\n",
    "\n",
    "* [Official API for the U.S Congress](https://api.congress.gov/)\n",
    "\n",
    "* [Voteview](https://voteview.com/data)\n",
    "\n",
    "* [Open Secrets]()\n",
    "\n",
    "* [ProPublica's Data on Bills](www)\n",
    "\n",
    "'''"
   ]
  },
  {
   "cell_type": "code",
   "execution_count": 12,
   "id": "7743ffc7-3c28-470a-ad58-d0c7385f1320",
   "metadata": {},
   "outputs": [
    {
     "data": {
      "text/html": [
       "\n",
       "        <iframe\n",
       "            width=\"100%\"\n",
       "            height=\"650\"\n",
       "            src=\"http://0.0.0.0:8050/\"\n",
       "            frameborder=\"0\"\n",
       "            allowfullscreen\n",
       "            \n",
       "        ></iframe>\n",
       "        "
      ],
      "text/plain": [
       "<IPython.lib.display.IFrame at 0x7f48fe87a110>"
      ]
     },
     "metadata": {},
     "output_type": "display_data"
    }
   ],
   "source": [
    "app = dash.Dash(__name__, external_stylesheets=external_stylesheets)\n",
    "\n",
    " \n",
    "\n",
    "app.layout = html.Div(\n",
    "    [\n",
    "        html.H1(\"Know your representatives in Congress\") ,\n",
    "        html.H2(\"Data collected from APIs from congress.gov, Open secrets, Voteview.com, and ProPublica\"),\n",
    "        html.H3(\"DS 6600: Data Engineering 1, UVA Data Science\"),\n",
    "\n",
    "        dcc.markdown(mymarkdown)\n",
    "\n",
    "        dcc.Dropdown(options = members,\n",
    "                    value = ''Alma S. Adams)\n",
    "    ]\n",
    ")\n",
    "\n",
    " \n",
    "\n",
    "if __name__== \"__main__\":\n",
    "    app.run_server(mode= 'external', host = \"0.0.0.0\", port=8050, debug=True)"
   ]
  },
  {
   "cell_type": "code",
   "execution_count": null,
   "id": "089110ea-b097-4baf-a62c-ebcaa1f13275",
   "metadata": {},
   "outputs": [],
   "source": []
  }
 ],
 "metadata": {
  "kernelspec": {
   "display_name": "Python 3 (ipykernel)",
   "language": "python",
   "name": "python3"
  },
  "language_info": {
   "codemirror_mode": {
    "name": "ipython",
    "version": 3
   },
   "file_extension": ".py",
   "mimetype": "text/x-python",
   "name": "python",
   "nbconvert_exporter": "python",
   "pygments_lexer": "ipython3",
   "version": "3.11.4"
  }
 },
 "nbformat": 4,
 "nbformat_minor": 5
}
