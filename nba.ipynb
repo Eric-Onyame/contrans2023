{
 "cells": [
  {
   "cell_type": "code",
   "execution_count": 1,
   "id": "b2da47b6-6b69-4d82-ade9-fb1ed383ba21",
   "metadata": {},
   "outputs": [],
   "source": [
    "import numpy as np\n",
    "import pandas as pd\n",
    "import psycopg2\n",
    "from sqlalchemy import create_engine\n",
    "import os\n",
    "POSTGRES_PASSWORD= os.getenv('POSTGRES_PASSWORD')"
   ]
  },
  {
   "cell_type": "code",
   "execution_count": null,
   "id": "84c05504-c4b3-453f-a010-ed9d5984cd56",
   "metadata": {},
   "outputs": [],
   "source": []
  },
  {
   "cell_type": "code",
   "execution_count": 2,
   "id": "8bd624f2-7cee-44bf-9755-51baf2d35164",
   "metadata": {},
   "outputs": [],
   "source": [
    "nba= pd.read_csv('nba.csv', low_memory= False)"
   ]
  },
  {
   "cell_type": "markdown",
   "id": "273f0743-5ba7-441f-8494-7ab1b7a164cb",
   "metadata": {},
   "source": [
    "# Original Data"
   ]
  },
  {
   "cell_type": "code",
   "execution_count": 41,
   "id": "ebba04ce-2bff-4b46-8248-ba75e7a9a3cc",
   "metadata": {},
   "outputs": [],
   "source": [
    "pd.set_option('display.max_rows', 50)\n",
    "#nba.head(3).T"
   ]
  },
  {
   "cell_type": "code",
   "execution_count": 4,
   "id": "673d69d7-66ec-44bf-89d5-e920ab6a5f29",
   "metadata": {},
   "outputs": [],
   "source": [
    "##Entity- table\n",
    "##Attribute- column\n",
    "##Primary Key- one or more columns in a table that are unique on every row\n"
   ]
  },
  {
   "cell_type": "markdown",
   "id": "61d211f5-3ada-40c8-9b37-b9421f3054c8",
   "metadata": {},
   "source": [
    "## First Normal Form"
   ]
  },
  {
   "cell_type": "code",
   "execution_count": 5,
   "id": "42a55009-c3c6-45a2-9784-fb51716280be",
   "metadata": {},
   "outputs": [],
   "source": [
    "nba1= nba.drop(['Inactives'], axis=1)\n",
    "#nba1.head(3).T"
   ]
  },
  {
   "cell_type": "code",
   "execution_count": 6,
   "id": "68906f33-ed92-4009-b746-32266afe6cef",
   "metadata": {},
   "outputs": [],
   "source": [
    "##primary dependent depends on stuffs outside the primary key\n",
    "##The key(First normal form), the whole key (Second normal form), nothing but the key (Third normal form)."
   ]
  },
  {
   "cell_type": "code",
   "execution_count": 7,
   "id": "4d0c723b-3c45-42f8-947a-9af37f87e400",
   "metadata": {},
   "outputs": [],
   "source": [
    "##Primay key for this data is game id and player id"
   ]
  },
  {
   "cell_type": "markdown",
   "id": "cd4c083e-38d0-44a2-8029-d648eb5baa36",
   "metadata": {},
   "source": [
    "# Second Normal Form"
   ]
  },
  {
   "cell_type": "code",
   "execution_count": 8,
   "id": "f89e031c-a73f-4c2b-aa28-15e43d2718c7",
   "metadata": {},
   "outputs": [],
   "source": [
    "players = nba1[['player_id', 'player']].drop_duplicates()\n",
    "#players"
   ]
  },
  {
   "cell_type": "code",
   "execution_count": 9,
   "id": "2d7362b4-c64e-460f-ac17-137d3e7428fc",
   "metadata": {},
   "outputs": [],
   "source": [
    "nba2 = nba1.drop(['player'], axis=1) "
   ]
  },
  {
   "cell_type": "code",
   "execution_count": 10,
   "id": "77c8de46-04c4-4642-a82c-1911d7c4f91c",
   "metadata": {},
   "outputs": [],
   "source": [
    "games = nba1[['game_id', 'game_date', 'OT', 'season']].drop_duplicates()\n",
    "#games"
   ]
  },
  {
   "cell_type": "code",
   "execution_count": 11,
   "id": "0b9c51c6-afa2-4f1b-8b71-0824f0389961",
   "metadata": {},
   "outputs": [],
   "source": [
    "nba = nba1.drop(['game_date', 'OT', 'season'], axis=1)\n",
    "#nba.head(3).T"
   ]
  },
  {
   "cell_type": "code",
   "execution_count": null,
   "id": "d7b27614-2466-49c0-8f05-fc35794b8b95",
   "metadata": {},
   "outputs": [],
   "source": []
  },
  {
   "cell_type": "code",
   "execution_count": null,
   "id": "0af401fb-25b2-44d2-893f-f458656fc356",
   "metadata": {},
   "outputs": [],
   "source": []
  },
  {
   "cell_type": "markdown",
   "id": "7603a2f4-0583-49ce-b0d5-b8f63825f0bd",
   "metadata": {},
   "source": [
    "# Third Normal Form"
   ]
  },
  {
   "cell_type": "code",
   "execution_count": 12,
   "id": "c221f1bd-f530-4096-879e-8f2a2268e6c5",
   "metadata": {},
   "outputs": [
    {
     "data": {
      "text/plain": [
       "Index(['Unnamed: 0', 'game_id', 'H_A', 'Team_Abbrev', 'Team_Score',\n",
       "       'Team_pace', 'Team_efg_pct', 'Team_tov_pct', 'Team_orb_pct',\n",
       "       'Team_ft_rate', 'Team_off_rtg', 'Opponent_Abbrev', 'Opponent_Score',\n",
       "       'Opponent_pace', 'Opponent_efg_pct', 'Opponent_tov_pct',\n",
       "       'Opponent_orb_pct', 'Opponent_ft_rate', 'Opponent_off_rtg', 'player',\n",
       "       'player_id', 'starter', 'mp', 'fg', 'fga', 'fg_pct', 'fg3', 'fg3a',\n",
       "       'fg3_pct', 'ft', 'fta', 'ft_pct', 'orb', 'drb', 'trb', 'ast', 'stl',\n",
       "       'blk', 'tov', 'pf', 'pts', 'plus_minus', 'did_not_play', 'is_inactive',\n",
       "       'ts_pct', 'efg_pct', 'fg3a_per_fga_pct', 'fta_per_fga_pct', 'orb_pct',\n",
       "       'drb_pct', 'trb_pct', 'ast_pct', 'stl_pct', 'blk_pct', 'tov_pct',\n",
       "       'usg_pct', 'off_rtg', 'def_rtg', 'bpm', 'minutes', 'double_double',\n",
       "       'triple_double', 'DKP', 'FDP', 'SDP', 'DKP_per_minute',\n",
       "       'FDP_per_minute', 'SDP_per_minute', 'pf_per_minute', 'ts',\n",
       "       'last_60_minutes_per_game_starting', 'last_60_minutes_per_game_bench',\n",
       "       'PG%', 'SG%', 'SF%', 'PF%', 'C%', 'active_position_minutes'],\n",
       "      dtype='object')"
      ]
     },
     "execution_count": 12,
     "metadata": {},
     "output_type": "execute_result"
    }
   ],
   "source": [
    "nba.columns"
   ]
  },
  {
   "cell_type": "code",
   "execution_count": 13,
   "id": "fc9bc71a-d68b-460b-bd8e-fa48654dba02",
   "metadata": {},
   "outputs": [
    {
     "data": {
      "text/html": [
       "<div>\n",
       "<style scoped>\n",
       "    .dataframe tbody tr th:only-of-type {\n",
       "        vertical-align: middle;\n",
       "    }\n",
       "\n",
       "    .dataframe tbody tr th {\n",
       "        vertical-align: top;\n",
       "    }\n",
       "\n",
       "    .dataframe thead th {\n",
       "        text-align: right;\n",
       "    }\n",
       "</style>\n",
       "<table border=\"1\" class=\"dataframe\">\n",
       "  <thead>\n",
       "    <tr style=\"text-align: right;\">\n",
       "      <th></th>\n",
       "      <th>0</th>\n",
       "      <th>13</th>\n",
       "      <th>26</th>\n",
       "      <th>37</th>\n",
       "    </tr>\n",
       "  </thead>\n",
       "  <tbody>\n",
       "    <tr>\n",
       "      <th>game_id</th>\n",
       "      <td>202202170BRK</td>\n",
       "      <td>202202170BRK</td>\n",
       "      <td>202202170CHO</td>\n",
       "      <td>202202170CHO</td>\n",
       "    </tr>\n",
       "    <tr>\n",
       "      <th>Team_Abbrev</th>\n",
       "      <td>WAS</td>\n",
       "      <td>BRK</td>\n",
       "      <td>MIA</td>\n",
       "      <td>CHO</td>\n",
       "    </tr>\n",
       "    <tr>\n",
       "      <th>Team_Score</th>\n",
       "      <td>117</td>\n",
       "      <td>103</td>\n",
       "      <td>111</td>\n",
       "      <td>107</td>\n",
       "    </tr>\n",
       "    <tr>\n",
       "      <th>Team_pace</th>\n",
       "      <td>94.5</td>\n",
       "      <td>94.5</td>\n",
       "      <td>88.8</td>\n",
       "      <td>88.8</td>\n",
       "    </tr>\n",
       "    <tr>\n",
       "      <th>Team_efg_pct</th>\n",
       "      <td>0.627</td>\n",
       "      <td>0.483</td>\n",
       "      <td>0.471</td>\n",
       "      <td>0.453</td>\n",
       "    </tr>\n",
       "    <tr>\n",
       "      <th>Team_tov_pct</th>\n",
       "      <td>13.5</td>\n",
       "      <td>13.1</td>\n",
       "      <td>11.1</td>\n",
       "      <td>13.6</td>\n",
       "    </tr>\n",
       "    <tr>\n",
       "      <th>Team_orb_pct</th>\n",
       "      <td>22.9</td>\n",
       "      <td>33.3</td>\n",
       "      <td>26.8</td>\n",
       "      <td>28.1</td>\n",
       "    </tr>\n",
       "    <tr>\n",
       "      <th>Team_ft_rate</th>\n",
       "      <td>0.157</td>\n",
       "      <td>0.191</td>\n",
       "      <td>0.147</td>\n",
       "      <td>0.221</td>\n",
       "    </tr>\n",
       "    <tr>\n",
       "      <th>Team_off_rtg</th>\n",
       "      <td>123.8</td>\n",
       "      <td>109.0</td>\n",
       "      <td>103.4</td>\n",
       "      <td>99.7</td>\n",
       "    </tr>\n",
       "    <tr>\n",
       "      <th>Opponent_Abbrev</th>\n",
       "      <td>BRK</td>\n",
       "      <td>WAS</td>\n",
       "      <td>CHO</td>\n",
       "      <td>MIA</td>\n",
       "    </tr>\n",
       "  </tbody>\n",
       "</table>\n",
       "</div>"
      ],
      "text/plain": [
       "                           0             13            26            37\n",
       "game_id          202202170BRK  202202170BRK  202202170CHO  202202170CHO\n",
       "Team_Abbrev               WAS           BRK           MIA           CHO\n",
       "Team_Score                117           103           111           107\n",
       "Team_pace                94.5          94.5          88.8          88.8\n",
       "Team_efg_pct            0.627         0.483         0.471         0.453\n",
       "Team_tov_pct             13.5          13.1          11.1          13.6\n",
       "Team_orb_pct             22.9          33.3          26.8          28.1\n",
       "Team_ft_rate            0.157         0.191         0.147         0.221\n",
       "Team_off_rtg            123.8         109.0         103.4          99.7\n",
       "Opponent_Abbrev           BRK           WAS           CHO           MIA"
      ]
     },
     "execution_count": 13,
     "metadata": {},
     "output_type": "execute_result"
    }
   ],
   "source": [
    "\n",
    "\n",
    "# Create games dataframe\n",
    "games = nba1[['game_id', 'game_date', 'OT', 'season']].drop_duplicates()\n",
    "\n",
    "# Create team_game dataframe\n",
    "team_game = nba[['game_id', 'Team_Abbrev', 'Team_Score',\n",
    "       'Team_pace', 'Team_efg_pct', 'Team_tov_pct', 'Team_orb_pct',\n",
    "       'Team_ft_rate', 'Team_off_rtg', 'Opponent_Abbrev']].drop_duplicates()\n",
    "\n",
    "# Display transposed first 4 rows of team_game\n",
    "team_game_display = team_game.head(4).T\n",
    "team_game_display\n",
    "\n",
    "# Attempt to recreate the team_game dataframe\n",
    "# "
   ]
  },
  {
   "cell_type": "code",
   "execution_count": null,
   "id": "714a4a33-d0c2-4832-90c0-da04735d5cf2",
   "metadata": {},
   "outputs": [],
   "source": []
  },
  {
   "cell_type": "code",
   "execution_count": 14,
   "id": "692c9430-11fe-4ebc-86b9-d2391daef576",
   "metadata": {},
   "outputs": [
    {
     "data": {
      "text/html": [
       "<div>\n",
       "<style scoped>\n",
       "    .dataframe tbody tr th:only-of-type {\n",
       "        vertical-align: middle;\n",
       "    }\n",
       "\n",
       "    .dataframe tbody tr th {\n",
       "        vertical-align: top;\n",
       "    }\n",
       "\n",
       "    .dataframe thead th {\n",
       "        text-align: right;\n",
       "    }\n",
       "</style>\n",
       "<table border=\"1\" class=\"dataframe\">\n",
       "  <thead>\n",
       "    <tr style=\"text-align: right;\">\n",
       "      <th></th>\n",
       "      <th>0</th>\n",
       "      <th>13</th>\n",
       "      <th>26</th>\n",
       "      <th>37</th>\n",
       "    </tr>\n",
       "  </thead>\n",
       "  <tbody>\n",
       "    <tr>\n",
       "      <th>game_id</th>\n",
       "      <td>202202170BRK</td>\n",
       "      <td>202202170BRK</td>\n",
       "      <td>202202170CHO</td>\n",
       "      <td>202202170CHO</td>\n",
       "    </tr>\n",
       "    <tr>\n",
       "      <th>Team_Abbrev</th>\n",
       "      <td>WAS</td>\n",
       "      <td>BRK</td>\n",
       "      <td>MIA</td>\n",
       "      <td>CHO</td>\n",
       "    </tr>\n",
       "    <tr>\n",
       "      <th>Team_Score</th>\n",
       "      <td>117</td>\n",
       "      <td>103</td>\n",
       "      <td>111</td>\n",
       "      <td>107</td>\n",
       "    </tr>\n",
       "    <tr>\n",
       "      <th>Team_pace</th>\n",
       "      <td>94.5</td>\n",
       "      <td>94.5</td>\n",
       "      <td>88.8</td>\n",
       "      <td>88.8</td>\n",
       "    </tr>\n",
       "    <tr>\n",
       "      <th>Team_efg_pct</th>\n",
       "      <td>0.627</td>\n",
       "      <td>0.483</td>\n",
       "      <td>0.471</td>\n",
       "      <td>0.453</td>\n",
       "    </tr>\n",
       "    <tr>\n",
       "      <th>Team_tov_pct</th>\n",
       "      <td>13.5</td>\n",
       "      <td>13.1</td>\n",
       "      <td>11.1</td>\n",
       "      <td>13.6</td>\n",
       "    </tr>\n",
       "    <tr>\n",
       "      <th>Team_orb_pct</th>\n",
       "      <td>22.9</td>\n",
       "      <td>33.3</td>\n",
       "      <td>26.8</td>\n",
       "      <td>28.1</td>\n",
       "    </tr>\n",
       "    <tr>\n",
       "      <th>Team_ft_rate</th>\n",
       "      <td>0.157</td>\n",
       "      <td>0.191</td>\n",
       "      <td>0.147</td>\n",
       "      <td>0.221</td>\n",
       "    </tr>\n",
       "    <tr>\n",
       "      <th>Team_off_rtg</th>\n",
       "      <td>123.8</td>\n",
       "      <td>109.0</td>\n",
       "      <td>103.4</td>\n",
       "      <td>99.7</td>\n",
       "    </tr>\n",
       "    <tr>\n",
       "      <th>Opponent_Abbrev</th>\n",
       "      <td>BRK</td>\n",
       "      <td>WAS</td>\n",
       "      <td>CHO</td>\n",
       "      <td>MIA</td>\n",
       "    </tr>\n",
       "  </tbody>\n",
       "</table>\n",
       "</div>"
      ],
      "text/plain": [
       "                           0             13            26            37\n",
       "game_id          202202170BRK  202202170BRK  202202170CHO  202202170CHO\n",
       "Team_Abbrev               WAS           BRK           MIA           CHO\n",
       "Team_Score                117           103           111           107\n",
       "Team_pace                94.5          94.5          88.8          88.8\n",
       "Team_efg_pct            0.627         0.483         0.471         0.453\n",
       "Team_tov_pct             13.5          13.1          11.1          13.6\n",
       "Team_orb_pct             22.9          33.3          26.8          28.1\n",
       "Team_ft_rate            0.157         0.191         0.147         0.221\n",
       "Team_off_rtg            123.8         109.0         103.4          99.7\n",
       "Opponent_Abbrev           BRK           WAS           CHO           MIA"
      ]
     },
     "execution_count": 14,
     "metadata": {},
     "output_type": "execute_result"
    }
   ],
   "source": [
    "import pandas as pd\n",
    "\n",
    "\n",
    "# Create games dataframe\n",
    "games = nba1[['game_id', 'game_date', 'OT', 'season']].drop_duplicates()\n",
    "\n",
    "# Create team_game dataframe\n",
    "team_game = nba[['game_id', 'Team_Abbrev', 'Team_Score',\n",
    "       'Team_pace', 'Team_efg_pct', 'Team_tov_pct', 'Team_orb_pct',\n",
    "       'Team_ft_rate', 'Team_off_rtg', 'Opponent_Abbrev']].drop_duplicates()\n",
    "\n",
    "# Display transposed first 4 rows of team_game\n",
    "team_game_display = team_game.head(4).T\n",
    "team_game_display\n"
   ]
  },
  {
   "cell_type": "code",
   "execution_count": 15,
   "id": "e8b10a4d-4c88-45d4-a7aa-c6f151413b36",
   "metadata": {},
   "outputs": [],
   "source": [
    "#team_game.head(4).T"
   ]
  },
  {
   "cell_type": "code",
   "execution_count": 16,
   "id": "5d8e69fa-25b4-4cdf-8569-bf3b0446de4a",
   "metadata": {},
   "outputs": [
    {
     "data": {
      "text/html": [
       "<div>\n",
       "<style scoped>\n",
       "    .dataframe tbody tr th:only-of-type {\n",
       "        vertical-align: middle;\n",
       "    }\n",
       "\n",
       "    .dataframe tbody tr th {\n",
       "        vertical-align: top;\n",
       "    }\n",
       "\n",
       "    .dataframe thead th {\n",
       "        text-align: right;\n",
       "    }\n",
       "</style>\n",
       "<table border=\"1\" class=\"dataframe\">\n",
       "  <thead>\n",
       "    <tr style=\"text-align: right;\">\n",
       "      <th></th>\n",
       "      <th>Unnamed: 0</th>\n",
       "      <th>game_id</th>\n",
       "      <th>H_A</th>\n",
       "      <th>Team_Abbrev</th>\n",
       "      <th>Team_Score</th>\n",
       "      <th>Team_pace</th>\n",
       "      <th>Team_efg_pct</th>\n",
       "      <th>Team_tov_pct</th>\n",
       "      <th>Team_orb_pct</th>\n",
       "      <th>Team_ft_rate</th>\n",
       "      <th>Team_off_rtg</th>\n",
       "      <th>Opponent_Abbrev</th>\n",
       "      <th>Opponent_Score</th>\n",
       "      <th>Opponent_pace</th>\n",
       "      <th>Opponent_efg_pct</th>\n",
       "      <th>Opponent_tov_pct</th>\n",
       "      <th>Opponent_orb_pct</th>\n",
       "      <th>Opponent_ft_rate</th>\n",
       "      <th>Opponent_off_rtg</th>\n",
       "      <th>player</th>\n",
       "      <th>player_id</th>\n",
       "      <th>starter</th>\n",
       "      <th>mp</th>\n",
       "      <th>fg</th>\n",
       "      <th>fga</th>\n",
       "      <th>fg_pct</th>\n",
       "      <th>fg3</th>\n",
       "      <th>fg3a</th>\n",
       "      <th>fg3_pct</th>\n",
       "      <th>ft</th>\n",
       "      <th>fta</th>\n",
       "      <th>ft_pct</th>\n",
       "      <th>orb</th>\n",
       "      <th>drb</th>\n",
       "      <th>trb</th>\n",
       "      <th>ast</th>\n",
       "      <th>stl</th>\n",
       "      <th>blk</th>\n",
       "      <th>tov</th>\n",
       "      <th>pf</th>\n",
       "      <th>pts</th>\n",
       "      <th>plus_minus</th>\n",
       "      <th>did_not_play</th>\n",
       "      <th>is_inactive</th>\n",
       "      <th>ts_pct</th>\n",
       "      <th>efg_pct</th>\n",
       "      <th>fg3a_per_fga_pct</th>\n",
       "      <th>fta_per_fga_pct</th>\n",
       "      <th>orb_pct</th>\n",
       "      <th>drb_pct</th>\n",
       "      <th>trb_pct</th>\n",
       "      <th>ast_pct</th>\n",
       "      <th>stl_pct</th>\n",
       "      <th>blk_pct</th>\n",
       "      <th>tov_pct</th>\n",
       "      <th>usg_pct</th>\n",
       "      <th>off_rtg</th>\n",
       "      <th>def_rtg</th>\n",
       "      <th>bpm</th>\n",
       "      <th>minutes</th>\n",
       "      <th>double_double</th>\n",
       "      <th>triple_double</th>\n",
       "      <th>DKP</th>\n",
       "      <th>FDP</th>\n",
       "      <th>SDP</th>\n",
       "      <th>DKP_per_minute</th>\n",
       "      <th>FDP_per_minute</th>\n",
       "      <th>SDP_per_minute</th>\n",
       "      <th>pf_per_minute</th>\n",
       "      <th>ts</th>\n",
       "      <th>last_60_minutes_per_game_starting</th>\n",
       "      <th>last_60_minutes_per_game_bench</th>\n",
       "      <th>PG%</th>\n",
       "      <th>SG%</th>\n",
       "      <th>SF%</th>\n",
       "      <th>PF%</th>\n",
       "      <th>C%</th>\n",
       "      <th>active_position_minutes</th>\n",
       "    </tr>\n",
       "  </thead>\n",
       "  <tbody>\n",
       "  </tbody>\n",
       "</table>\n",
       "</div>"
      ],
      "text/plain": [
       "Empty DataFrame\n",
       "Columns: [Unnamed: 0, game_id, H_A, Team_Abbrev, Team_Score, Team_pace, Team_efg_pct, Team_tov_pct, Team_orb_pct, Team_ft_rate, Team_off_rtg, Opponent_Abbrev, Opponent_Score, Opponent_pace, Opponent_efg_pct, Opponent_tov_pct, Opponent_orb_pct, Opponent_ft_rate, Opponent_off_rtg, player, player_id, starter, mp, fg, fga, fg_pct, fg3, fg3a, fg3_pct, ft, fta, ft_pct, orb, drb, trb, ast, stl, blk, tov, pf, pts, plus_minus, did_not_play, is_inactive, ts_pct, efg_pct, fg3a_per_fga_pct, fta_per_fga_pct, orb_pct, drb_pct, trb_pct, ast_pct, stl_pct, blk_pct, tov_pct, usg_pct, off_rtg, def_rtg, bpm, minutes, double_double, triple_double, DKP, FDP, SDP, DKP_per_minute, FDP_per_minute, SDP_per_minute, pf_per_minute, ts, last_60_minutes_per_game_starting, last_60_minutes_per_game_bench, PG%, SG%, SF%, PF%, C%, active_position_minutes]\n",
       "Index: []"
      ]
     },
     "execution_count": 16,
     "metadata": {},
     "output_type": "execute_result"
    }
   ],
   "source": [
    " pd.set_option('display.max_columns', 80)\n",
    " \n",
    "nba.query(\"game_id == '202202170'\")\n"
   ]
  },
  {
   "cell_type": "code",
   "execution_count": 17,
   "id": "71dfd416-e796-4d66-a39b-fd409146440e",
   "metadata": {},
   "outputs": [],
   "source": [
    "player_game = nba.drop(['H_A', 'Team_Abbrev', 'Team_Score',\n",
    "       'Team_pace', 'Team_efg_pct', 'Team_tov_pct', 'Team_orb_pct',\n",
    "       'Team_ft_rate', 'Team_off_rtg', 'Opponent_Abbrev',\n",
    "       'Opponent_Score', 'Opponent_pace', 'Opponent_efg_pct',\n",
    "       'Opponent_tov_pct', 'Opponent_orb_pct', 'Opponent_ft_rate',\n",
    "       'Opponent_off_rtg'], axis=1)\n",
    "\n",
    "#'Inactives'\n",
    "# Display the first few rows of the player_game dataframe as a check\n",
    "#player_game.head()"
   ]
  },
  {
   "cell_type": "code",
   "execution_count": null,
   "id": "3fe6fbe3-b70d-4165-b04a-d5a28ac6b5f7",
   "metadata": {},
   "outputs": [],
   "source": []
  },
  {
   "cell_type": "code",
   "execution_count": null,
   "id": "2e96ac0d-9ef1-4e2c-bbf5-5a6cbfcb4548",
   "metadata": {},
   "outputs": [],
   "source": []
  },
  {
   "cell_type": "code",
   "execution_count": 18,
   "id": "aa4e51ac-db75-4543-afad-e3a3aaeeb5c7",
   "metadata": {},
   "outputs": [],
   "source": [
    "dbserver = psycopg2.connect(\n",
    "     user = 'postgres',\n",
    "     password = POSTGRES_PASSWORD,\n",
    "     host = 'postgres',\n",
    "     #host = 'host.docker.internal',\n",
    "     port= '5432'   \n",
    ")\n",
    "dbserver.autocommit = True"
   ]
  },
  {
   "cell_type": "code",
   "execution_count": 19,
   "id": "deeb6b1c-5594-4f9b-9a49-142d1855d824",
   "metadata": {},
   "outputs": [],
   "source": [
    " cursor = dbserver.cursor()"
   ]
  },
  {
   "cell_type": "code",
   "execution_count": 28,
   "id": "e7dbe0a6-bb55-420d-8f74-c66b8d61117a",
   "metadata": {},
   "outputs": [],
   "source": [
    "try:\n",
    "    cursor.execute('CREATE DATABASE nba')\n",
    "except:\n",
    "    cursor.execute('DROP DATABASE nba')\n",
    "    cursor.execute('CREATE DATABASE nba')"
   ]
  },
  {
   "cell_type": "code",
   "execution_count": 25,
   "id": "ef526f10-b085-4171-9dc4-29960ac5e5c0",
   "metadata": {},
   "outputs": [],
   "source": [
    "engine = create_engine(\"postgresql+psycopg2://{user}:{pw}@{service}/{db}\".format (\n",
    "    user = 'postgres',\n",
    "    pw = POSTGRES_PASSWORD,\n",
    "    service = 'postgres',\n",
    "    db = 'nba'\n",
    "))"
   ]
  },
  {
   "cell_type": "code",
   "execution_count": 35,
   "id": "51b0221f-af6d-4ec1-ae7b-04b453d00f18",
   "metadata": {},
   "outputs": [],
   "source": [
    "games.columns = [x.lower() for x in games.columns]\n",
    "players.columns = [x.lower() for x in players.columns]\n",
    "team_game.columns = [x.lower() for x in team_game.columns]\n",
    "player_game.columns = [x.lower() for x in player_game.columns]"
   ]
  },
  {
   "cell_type": "code",
   "execution_count": 36,
   "id": "76cd4164-a584-4a1e-b310-1648d6bafdd7",
   "metadata": {},
   "outputs": [
    {
     "data": {
      "text/plain": [
       "3197"
      ]
     },
     "execution_count": 36,
     "metadata": {},
     "output_type": "execute_result"
    }
   ],
   "source": [
    "games.to_sql('games', con = engine, index=False,  chunksize =1000, if_exists= 'replace')"
   ]
  },
  {
   "cell_type": "code",
   "execution_count": 37,
   "id": "ee33903a-62ca-449b-8aed-24364e1e332b",
   "metadata": {},
   "outputs": [
    {
     "data": {
      "text/plain": [
       "812"
      ]
     },
     "execution_count": 37,
     "metadata": {},
     "output_type": "execute_result"
    }
   ],
   "source": [
    "players.to_sql('players', con = engine, index=False,  chunksize =1000, if_exists= 'replace')"
   ]
  },
  {
   "cell_type": "code",
   "execution_count": 38,
   "id": "8bc56ee6-44ec-431a-b76f-8c88a9156cee",
   "metadata": {},
   "outputs": [
    {
     "data": {
      "text/plain": [
       "6394"
      ]
     },
     "execution_count": 38,
     "metadata": {},
     "output_type": "execute_result"
    }
   ],
   "source": [
    "team_game.to_sql('team_game', con = engine, index=False,  chunksize =1000, if_exists= 'replace')"
   ]
  },
  {
   "cell_type": "code",
   "execution_count": 39,
   "id": "09aa19c5-13a8-4f26-b451-6497b0c4b1f7",
   "metadata": {},
   "outputs": [
    {
     "data": {
      "text/plain": [
       "112123"
      ]
     },
     "execution_count": 39,
     "metadata": {},
     "output_type": "execute_result"
    }
   ],
   "source": [
    "player_game.to_sql('player_game', con = engine, index=False,  chunksize =500, if_exists= 'replace')"
   ]
  },
  {
   "cell_type": "code",
   "execution_count": 42,
   "id": "c704570e-3ff7-4611-bf4c-e8140c5c3c44",
   "metadata": {},
   "outputs": [
    {
     "data": {
      "text/html": [
       "<div>\n",
       "<style scoped>\n",
       "    .dataframe tbody tr th:only-of-type {\n",
       "        vertical-align: middle;\n",
       "    }\n",
       "\n",
       "    .dataframe tbody tr th {\n",
       "        vertical-align: top;\n",
       "    }\n",
       "\n",
       "    .dataframe thead th {\n",
       "        text-align: right;\n",
       "    }\n",
       "</style>\n",
       "<table border=\"1\" class=\"dataframe\">\n",
       "  <thead>\n",
       "    <tr style=\"text-align: right;\">\n",
       "      <th></th>\n",
       "      <th>game_id</th>\n",
       "      <th>game_date</th>\n",
       "      <th>ot</th>\n",
       "      <th>season</th>\n",
       "    </tr>\n",
       "  </thead>\n",
       "  <tbody>\n",
       "    <tr>\n",
       "      <th>0</th>\n",
       "      <td>202202170BRK</td>\n",
       "      <td>2022-02-17</td>\n",
       "      <td>0</td>\n",
       "      <td>2022</td>\n",
       "    </tr>\n",
       "    <tr>\n",
       "      <th>1</th>\n",
       "      <td>202202170CHO</td>\n",
       "      <td>2022-02-17</td>\n",
       "      <td>2</td>\n",
       "      <td>2022</td>\n",
       "    </tr>\n",
       "    <tr>\n",
       "      <th>2</th>\n",
       "      <td>202202170LAC</td>\n",
       "      <td>2022-02-17</td>\n",
       "      <td>0</td>\n",
       "      <td>2022</td>\n",
       "    </tr>\n",
       "    <tr>\n",
       "      <th>3</th>\n",
       "      <td>202202170MIL</td>\n",
       "      <td>2022-02-17</td>\n",
       "      <td>0</td>\n",
       "      <td>2022</td>\n",
       "    </tr>\n",
       "    <tr>\n",
       "      <th>4</th>\n",
       "      <td>202202170NOP</td>\n",
       "      <td>2022-02-17</td>\n",
       "      <td>0</td>\n",
       "      <td>2022</td>\n",
       "    </tr>\n",
       "    <tr>\n",
       "      <th>...</th>\n",
       "      <td>...</td>\n",
       "      <td>...</td>\n",
       "      <td>...</td>\n",
       "      <td>...</td>\n",
       "    </tr>\n",
       "    <tr>\n",
       "      <th>3192</th>\n",
       "      <td>202001080GSW</td>\n",
       "      <td>2020-01-08</td>\n",
       "      <td>0</td>\n",
       "      <td>2020</td>\n",
       "    </tr>\n",
       "    <tr>\n",
       "      <th>3193</th>\n",
       "      <td>202008020HOU</td>\n",
       "      <td>2020-08-02</td>\n",
       "      <td>0</td>\n",
       "      <td>2020</td>\n",
       "    </tr>\n",
       "    <tr>\n",
       "      <th>3194</th>\n",
       "      <td>201911060HOU</td>\n",
       "      <td>2019-11-06</td>\n",
       "      <td>0</td>\n",
       "      <td>2020</td>\n",
       "    </tr>\n",
       "    <tr>\n",
       "      <th>3195</th>\n",
       "      <td>201912250GSW</td>\n",
       "      <td>2019-12-25</td>\n",
       "      <td>0</td>\n",
       "      <td>2020</td>\n",
       "    </tr>\n",
       "    <tr>\n",
       "      <th>3196</th>\n",
       "      <td>202002200GSW</td>\n",
       "      <td>2020-02-20</td>\n",
       "      <td>0</td>\n",
       "      <td>2020</td>\n",
       "    </tr>\n",
       "  </tbody>\n",
       "</table>\n",
       "<p>3197 rows × 4 columns</p>\n",
       "</div>"
      ],
      "text/plain": [
       "           game_id   game_date  ot  season\n",
       "0     202202170BRK  2022-02-17   0    2022\n",
       "1     202202170CHO  2022-02-17   2    2022\n",
       "2     202202170LAC  2022-02-17   0    2022\n",
       "3     202202170MIL  2022-02-17   0    2022\n",
       "4     202202170NOP  2022-02-17   0    2022\n",
       "...            ...         ...  ..     ...\n",
       "3192  202001080GSW  2020-01-08   0    2020\n",
       "3193  202008020HOU  2020-08-02   0    2020\n",
       "3194  201911060HOU  2019-11-06   0    2020\n",
       "3195  201912250GSW  2019-12-25   0    2020\n",
       "3196  202002200GSW  2020-02-20   0    2020\n",
       "\n",
       "[3197 rows x 4 columns]"
      ]
     },
     "execution_count": 42,
     "metadata": {},
     "output_type": "execute_result"
    }
   ],
   "source": [
    "myquery = '''\n",
    "\n",
    "SELECT *\n",
    "FROM games\n",
    "\n",
    "'''\n",
    "pd.read_sql_query(myquery, con= engine)\n"
   ]
  },
  {
   "cell_type": "code",
   "execution_count": null,
   "id": "ca4310bb-a2fd-4a59-b597-088a8e232b91",
   "metadata": {},
   "outputs": [],
   "source": [
    "myquery = '''\n",
    "SELECT *\n",
    "FROM games\n",
    "#WHERE season = 2022\n",
    "WHERE game_date= '2021-04-12\n",
    "'''\n",
    "pd.read_sql_query(myquery, con= engine)"
   ]
  },
  {
   "cell_type": "code",
   "execution_count": null,
   "id": "3ed0956f-bc26-46c4-b465-50e546ed553d",
   "metadata": {},
   "outputs": [],
   "source": [
    "#all games where a player scores > 40, and team 120, and calculate % of team"
   ]
  },
  {
   "cell_type": "code",
   "execution_count": null,
   "id": "068c4c08-eb10-4312-bd94-397aed8eb8cd",
   "metadata": {},
   "outputs": [],
   "source": [
    "# myquery = '''\n",
    "# SELECT game_id, player_id, pg.pts, tg.team_score\n",
    "# FROM player_game pg\n",
    "# INNER JOIN team_game tg\n",
    "#     ON pg.game_id = tg.game_id\n",
    "# WHERE pts > 40 \n",
    "# '''\n",
    "\n",
    "# pd.read_sql_query(myquery, con= engine)"
   ]
  },
  {
   "cell_type": "code",
   "execution_count": 49,
   "id": "3f97f889-27d4-49b5-bf5d-3cbf84475144",
   "metadata": {},
   "outputs": [
    {
     "data": {
      "text/html": [
       "<div>\n",
       "<style scoped>\n",
       "    .dataframe tbody tr th:only-of-type {\n",
       "        vertical-align: middle;\n",
       "    }\n",
       "\n",
       "    .dataframe tbody tr th {\n",
       "        vertical-align: top;\n",
       "    }\n",
       "\n",
       "    .dataframe thead th {\n",
       "        text-align: right;\n",
       "    }\n",
       "</style>\n",
       "<table border=\"1\" class=\"dataframe\">\n",
       "  <thead>\n",
       "    <tr style=\"text-align: right;\">\n",
       "      <th></th>\n",
       "      <th>game_id</th>\n",
       "      <th>team_abbrev</th>\n",
       "      <th>team_score</th>\n",
       "      <th>opponent_abbrev</th>\n",
       "      <th>game_date</th>\n",
       "      <th>season</th>\n",
       "    </tr>\n",
       "  </thead>\n",
       "  <tbody>\n",
       "    <tr>\n",
       "      <th>0</th>\n",
       "      <td>202101200CLE</td>\n",
       "      <td>CLE</td>\n",
       "      <td>147</td>\n",
       "      <td>BRK</td>\n",
       "      <td>2021-01-20</td>\n",
       "      <td>2021</td>\n",
       "    </tr>\n",
       "    <tr>\n",
       "      <th>1</th>\n",
       "      <td>202112260CLE</td>\n",
       "      <td>CLE</td>\n",
       "      <td>144</td>\n",
       "      <td>TOR</td>\n",
       "      <td>2021-12-26</td>\n",
       "      <td>2022</td>\n",
       "    </tr>\n",
       "    <tr>\n",
       "      <th>2</th>\n",
       "      <td>202002030CLE</td>\n",
       "      <td>CLE</td>\n",
       "      <td>134</td>\n",
       "      <td>NYK</td>\n",
       "      <td>2020-02-03</td>\n",
       "      <td>2020</td>\n",
       "    </tr>\n",
       "    <tr>\n",
       "      <th>3</th>\n",
       "      <td>202003080CLE</td>\n",
       "      <td>CLE</td>\n",
       "      <td>132</td>\n",
       "      <td>SAS</td>\n",
       "      <td>2020-03-08</td>\n",
       "      <td>2020</td>\n",
       "    </tr>\n",
       "    <tr>\n",
       "      <th>4</th>\n",
       "      <td>202104080OKC</td>\n",
       "      <td>CLE</td>\n",
       "      <td>129</td>\n",
       "      <td>OKC</td>\n",
       "      <td>2021-04-08</td>\n",
       "      <td>2021</td>\n",
       "    </tr>\n",
       "    <tr>\n",
       "      <th>5</th>\n",
       "      <td>202012260DET</td>\n",
       "      <td>CLE</td>\n",
       "      <td>128</td>\n",
       "      <td>DET</td>\n",
       "      <td>2020-12-26</td>\n",
       "      <td>2021</td>\n",
       "    </tr>\n",
       "    <tr>\n",
       "      <th>6</th>\n",
       "      <td>202002120CLE</td>\n",
       "      <td>CLE</td>\n",
       "      <td>127</td>\n",
       "      <td>ATL</td>\n",
       "      <td>2020-02-12</td>\n",
       "      <td>2020</td>\n",
       "    </tr>\n",
       "    <tr>\n",
       "      <th>7</th>\n",
       "      <td>202111070NYK</td>\n",
       "      <td>CLE</td>\n",
       "      <td>126</td>\n",
       "      <td>NYK</td>\n",
       "      <td>2021-11-07</td>\n",
       "      <td>2022</td>\n",
       "    </tr>\n",
       "    <tr>\n",
       "      <th>8</th>\n",
       "      <td>202104050SAS</td>\n",
       "      <td>CLE</td>\n",
       "      <td>125</td>\n",
       "      <td>SAS</td>\n",
       "      <td>2021-04-05</td>\n",
       "      <td>2021</td>\n",
       "    </tr>\n",
       "    <tr>\n",
       "      <th>9</th>\n",
       "      <td>202101220CLE</td>\n",
       "      <td>CLE</td>\n",
       "      <td>125</td>\n",
       "      <td>BRK</td>\n",
       "      <td>2021-01-22</td>\n",
       "      <td>2021</td>\n",
       "    </tr>\n",
       "  </tbody>\n",
       "</table>\n",
       "</div>"
      ],
      "text/plain": [
       "        game_id team_abbrev  team_score opponent_abbrev   game_date  season\n",
       "0  202101200CLE         CLE         147             BRK  2021-01-20    2021\n",
       "1  202112260CLE         CLE         144             TOR  2021-12-26    2022\n",
       "2  202002030CLE         CLE         134             NYK  2020-02-03    2020\n",
       "3  202003080CLE         CLE         132             SAS  2020-03-08    2020\n",
       "4  202104080OKC         CLE         129             OKC  2021-04-08    2021\n",
       "5  202012260DET         CLE         128             DET  2020-12-26    2021\n",
       "6  202002120CLE         CLE         127             ATL  2020-02-12    2020\n",
       "7  202111070NYK         CLE         126             NYK  2021-11-07    2022\n",
       "8  202104050SAS         CLE         125             SAS  2021-04-05    2021\n",
       "9  202101220CLE         CLE         125             BRK  2021-01-22    2021"
      ]
     },
     "execution_count": 49,
     "metadata": {},
     "output_type": "execute_result"
    }
   ],
   "source": [
    "myquery = '''\n",
    "\n",
    "SELECT tg.game_id, tg.team_abbrev, tg.team_score, tg.opponent_abbrev,g.game_date, g.season\n",
    "FROM team_game tg\n",
    "\n",
    "INNER JOIN games g\n",
    "    ON tg.game_id=g.game_id\n",
    "WHERE team_abbrev='CLE'\n",
    "ORDER BY team_score DESC \n",
    "LIMIT 10\n",
    "'''\n",
    "pd.read_sql_query(myquery, con= engine)"
   ]
  },
  {
   "cell_type": "code",
   "execution_count": null,
   "id": "0d4edd54-bf7e-48d2-899b-ae878f2ae31b",
   "metadata": {},
   "outputs": [],
   "source": []
  }
 ],
 "metadata": {
  "kernelspec": {
   "display_name": "Python 3 (ipykernel)",
   "language": "python",
   "name": "python3"
  },
  "language_info": {
   "codemirror_mode": {
    "name": "ipython",
    "version": 3
   },
   "file_extension": ".py",
   "mimetype": "text/x-python",
   "name": "python",
   "nbconvert_exporter": "python",
   "pygments_lexer": "ipython3",
   "version": "3.11.4"
  }
 },
 "nbformat": 4,
 "nbformat_minor": 5
}
